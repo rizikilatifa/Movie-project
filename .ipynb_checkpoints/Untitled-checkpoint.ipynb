{
 "cells": [
  {
   "cell_type": "markdown",
   "id": "6b631f0e-106e-4186-b57c-d178b8561ad3",
   "metadata": {},
   "source": [
    "# Project Name - FILM TRENDS"
   ]
  },
  {
   "cell_type": "markdown",
   "id": "0ee8f55c-fd5e-47bc-b27f-78bfaf6c6302",
   "metadata": {},
   "source": [
    "# Defining the question\n",
    "\n",
    "## Specific question \n",
    "The objective is to determine and analyse which type of films are currently trending and doing the best. We will predict this with the data we have and reviews."
   ]
  },
  {
   "cell_type": "markdown",
   "id": "e2370387-585a-4428-8657-98917d39ee09",
   "metadata": {},
   "source": [
    "# Business Understanding\n"
   ]
  },
  {
   "cell_type": "code",
   "execution_count": null,
   "id": "82a8e063-c040-44ea-ac0b-58bf7b1f5290",
   "metadata": {},
   "outputs": [],
   "source": []
  }
 ],
 "metadata": {
  "kernelspec": {
   "display_name": "Python 3 (ipykernel)",
   "language": "python",
   "name": "python3"
  },
  "language_info": {
   "codemirror_mode": {
    "name": "ipython",
    "version": 3
   },
   "file_extension": ".py",
   "mimetype": "text/x-python",
   "name": "python",
   "nbconvert_exporter": "python",
   "pygments_lexer": "ipython3",
   "version": "3.12.7"
  }
 },
 "nbformat": 4,
 "nbformat_minor": 5
}
