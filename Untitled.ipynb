{
 "cells": [
  {
   "cell_type": "markdown",
   "id": "6b631f0e-106e-4186-b57c-d178b8561ad3",
   "metadata": {},
   "source": [
    "# Project Name - FILM TRENDS"
   ]
  },
  {
   "cell_type": "markdown",
   "id": "0ee8f55c-fd5e-47bc-b27f-78bfaf6c6302",
   "metadata": {},
   "source": [
    "# Defining the question\n",
    "\n",
    "## Specific question \n",
    "The objective is to determine and analyse which type of films are currently trending and doing the best. We will predict this with the data we have and reviews."
   ]
  },
  {
   "cell_type": "markdown",
   "id": "e2370387-585a-4428-8657-98917d39ee09",
   "metadata": {},
   "source": [
    "# 1. Business Understanding\n",
    "With the vast growth of original video content by leading entertainment platforms(like Netflix, Disney+, Prime), our company saw this as a huge opportunity to join the film industry. The goal is to launch a new movie studio capable of producing content that resonates with the current demand. \n",
    "\n",
    "Despite wanting to venture into this sector, our company still lack the industry-specific knowledge and experience in film production. To make informed investment decisions and reduce the risk of launching unsuccessful films, the company must understand which type of movies are currently performing best in the market. "
   ]
  },
  {
   "cell_type": "markdown",
   "id": "58cb7a6d-2f9c-435c-99bb-196637a18020",
   "metadata": {},
   "source": [
    "# 1.1 OBJECTIVES"
   ]
  },
  {
   "cell_type": "markdown",
   "id": "f979c174-1520-430c-bbdf-93f2035c8bca",
   "metadata": {},
   "source": [
    "## 1.1.1 Main objective\n",
    "To determine which type of films are currently doing the best"
   ]
  },
  {
   "cell_type": "markdown",
   "id": "7f5fc723-cf88-4041-8787-3c7d7e33ccbe",
   "metadata": {},
   "source": [
    "## 1.1.2 Specific Objective\n",
    "- To identify what genres are doing well\n",
    "- To identify any relationship between the budget and the success of a film\n",
    "- Understand how factors like release date and cast influence a movie's performance\n",
    "- Do certain actors, directors or studios correlate with higher revenue"
   ]
  },
  {
   "cell_type": "markdown",
   "id": "d59026f2-43a1-44bf-8d5d-ba7f13461766",
   "metadata": {},
   "source": [
    "# 1.2 Defining the Metric of Success\n",
    "To come up with reccomendations That will best suit the businness objective"
   ]
  },
  {
   "cell_type": "markdown",
   "id": "3b7c39f4-9a35-4163-9391-899ceaeb85e4",
   "metadata": {},
   "source": [
    "# Experimental Design\n",
    "Below is the expected workflow:\n",
    "\n",
    "* Data Cleaning and preparation\n",
    " * Loading our libraries and dataset\n",
    " * Dealing with missing values\n",
    " * Dealing with duplicates\n",
    "\n",
    "* Performing EDA\n",
    " * Univariate Analysis\n",
    " * Bivariate Analysis\n",
    " * Multivariate Analysis\n",
    "\n",
    "* Conclusion\n",
    "\n",
    "* Recommendations"
   ]
  },
  {
   "cell_type": "markdown",
   "id": "9b30b3e8-fc36-4d7f-9a4e-5fba7cb454fe",
   "metadata": {},
   "source": [
    "# Data Relevance\n",
    "The data "
   ]
  },
  {
   "cell_type": "markdown",
   "id": "4c885933-3f7f-4a1e-bd75-d01644dc2ca1",
   "metadata": {},
   "source": [
    "## Data Reading"
   ]
  },
  {
   "cell_type": "code",
   "execution_count": 21,
   "id": "ec947764-e68e-43dd-857a-0100667bbd18",
   "metadata": {},
   "outputs": [],
   "source": [
    "# import the necessary libraries\n",
    "import pandas as pd\n",
    "import seaborn as sns # for visualization\n",
    "import matplotlib.pyplot as plt \n",
    "import sqlite3"
   ]
  },
  {
   "cell_type": "code",
   "execution_count": null,
   "id": "1091c410-3e1c-4361-ae8d-a48dcef26c4e",
   "metadata": {},
   "outputs": [],
   "source": []
  }
 ],
 "metadata": {
  "kernelspec": {
   "display_name": "Python 3 (ipykernel)",
   "language": "python",
   "name": "python3"
  },
  "language_info": {
   "codemirror_mode": {
    "name": "ipython",
    "version": 3
   },
   "file_extension": ".py",
   "mimetype": "text/x-python",
   "name": "python",
   "nbconvert_exporter": "python",
   "pygments_lexer": "ipython3",
   "version": "3.12.7"
  }
 },
 "nbformat": 4,
 "nbformat_minor": 5
}
